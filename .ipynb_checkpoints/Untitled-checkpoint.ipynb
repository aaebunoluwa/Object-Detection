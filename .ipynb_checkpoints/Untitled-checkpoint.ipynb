{
 "cells": [
  {
   "cell_type": "code",
   "execution_count": 2,
   "id": "dbf797b5",
   "metadata": {},
   "outputs": [],
   "source": [
    "import requests\n",
    "from bs4 import BeautifulSoup\n",
    "import os\n",
    "import pandas as pd"
   ]
  },
  {
   "cell_type": "code",
   "execution_count": 6,
   "id": "6b4da8c2",
   "metadata": {},
   "outputs": [
    {
     "name": "stdout",
     "output_type": "stream",
     "text": [
      "<!DOCTYPE html>\n",
      "<html lang=\"en\"><head><meta charset=\"utf-8\"/><meta content=\"width=device-width,initial-scale=1,shrink-to-fit=no\" name=\"viewport\"/><script>!function(){var e=window.analytics=window.analytics||[];if(!e.initialize)if(e.invoked)window.console&&console.error&&console.error(\"Segment snippet included twice.\");else{e.invoked=!0,e.methods=[\"trackSubmit\",\"trackClick\",\"trackLink\",\"trackForm\",\"pageview\",\"identify\",\"reset\",\"group\",\"track\",\"ready\",\"alias\",\"debug\",\"page\",\"once\",\"off\",\"on\",\"addSourceMiddleware\",\"addIntegrationMiddleware\",\"setAnonymousId\",\"addDestinationMiddleware\"],e.factory=function(t){return function(){var n=Array.prototype.slice.call(arguments);return n.unshift(t),e.push(n),e}};for(var t=0;t<e.methods.length;t++){var n=e.methods[t];e[n]=e.factory(n)}e.load=function(t,n){var a=document.createElement(\"script\");a.type=\"text/javascript\",a.async=!0,a.src=\"https://cdn.segment.com/analytics.js/v1/\"+t+\"/analytics.min.js\";var r=document.getElementsByTagName(\"script\")[0];r.parentNode.insertBefore(a,r),e._loadOptions=n},e._writeKey=\"zyAz9syufJVUHiZ2LHqTcB49SsNcr081\",e.SNIPPET_VERSION=\"4.15.3\",e.load(\"zyAz9syufJVUHiZ2LHqTcB49SsNcr081\")}}()</script><script>window.dataLayer=window.dataLayer||[]</script><script>!function(e,t,a,n,g){e[n]=e[n]||[],e[n].push({\"gtm.start\":(new Date).getTime(),event:\"gtm.js\"});var m=t.getElementsByTagName(a)[0],r=t.createElement(a);r.async=!0,r.src=\"https://www.googletagmanager.com/gtm.js?id=GTM-MBNW7Q3\",m.parentNode.insertBefore(r,m)}(window,document,\"script\",\"dataLayer\")</script><script>!function(e,t,n,a,c,s,p,b,r){e.AppsFlyerSdkObject=\"AF\",e.AF=e.AF||function(){(e.AF.q=e.AF.q||[]).push([Date.now()].concat(Array.prototype.slice.call(arguments)))},e.AF.id=e.AF.id||p,e.AF.plugins={},b=t.createElement(n),r=t.getElementsByTagName(n)[0],b.async=1,b.src=\"https://websdk.appsflyer.com?\"+(s.length>0?\"st=\"+s.split(\",\").sort().join(\",\")+\"&\":\"\")+(p.length>0?\"af_id=\"+p:\"\"),r.parentNode.insertBefore(b,r)}(window,document,\"script\",0,0,\"pba,banners\",{pba:{webAppId:\"7cabba93-d2c0-425a-926e-b4a433e66758\"},banners:{key:\"d56ebb23-8411-4d7f-b210-584f5cecb76b\"}})</script><link href=\"/manifest.json?v=2\" rel=\"manifest\"/><link href=\"/favicon.ico?v=2\" rel=\"shortcut icon\"/><link href=\"/apple-touch-icon.png\" rel=\"apple-touch-icon\" sizes=\"180x180\"/><link href=\"/favicon-32x32.png\" rel=\"icon\" sizes=\"32x32\" type=\"image/png\"/><link href=\"/favicon-16x16.png\" rel=\"icon\" sizes=\"16x16\" type=\"image/png\"/><link color=\"#2196f3\" href=\"/safari-pinned-tab.svg\" rel=\"mask-icon\"/><meta content=\"FTX\" name=\"apple-mobile-web-app-title\"/><meta content=\"FTX\" name=\"application-name\"/><meta content=\"#2b5797\" name=\"msapplication-TileColor\"/><meta content=\"#316c9a\" name=\"theme-color\"/><meta content=\"summary_large_image\" name=\"twitter:card\"/><meta content=\"FTX\" name=\"twitter:title\"/><meta content=\"Cryptocurrency Derivatives Exchange\" name=\"twitter:description\"/><meta content=\"https://i.imgur.com/yQDvfFn.png\" name=\"twitter:image\"/><meta content=\"nsotj00f9mektubgy7jhlwtismeo6h\" name=\"facebook-domain-verification\"/><title>FTX</title><meta content=\"FTX Cryptocurrency Derivatives Exchange, built by traders, for traders. Buy and sell BTC, ETH, SOL tokens and futures with up to 20x leverage.\" data-react-helmet=\"true\" name=\"description\"/><meta content=\"bitcoin, ethereum, blockchain, trading, futures, options, leveraged tokens, MOVE contracts, cryptocurrency exchange\" name=\"keywords\"/><style>#spinner{position:fixed;top:calc(50% - 1rem);left:calc(50% - 1rem);width:2rem;height:2rem;border:.25rem solid #02a5c2;border-bottom:.25rem solid transparent;border-radius:50%;animation:spin 1s linear infinite;z-index:10}@keyframes spin{to{transform:rotate(360deg)}}</style><link href=\"/static/css/21.4a45ce7d.chunk.css\" rel=\"stylesheet\"/><link href=\"/static/css/main.f8b7fcb1.chunk.css\" rel=\"stylesheet\"/></head><body><noscript><iframe height=\"0\" src=\"https://www.googletagmanager.com/ns.html?id=GTM-MBNW7Q3\" style=\"display:none;visibility:hidden\" width=\"0\"></iframe></noscript><div id=\"root\"></div><div id=\"spinner\"></div><noscript>You need to enable JavaScript to run this app.</noscript><script>!function(e){function f(f){for(var d,t,n=f[0],o=f[1],u=f[2],b=0,l=[];b<n.length;b++)t=n[b],Object.prototype.hasOwnProperty.call(r,t)&&r[t]&&l.push(r[t][0]),r[t]=0;for(d in o)Object.prototype.hasOwnProperty.call(o,d)&&(e[d]=o[d]);for(i&&i(f);l.length;)l.shift()();return a.push.apply(a,u||[]),c()}function c(){for(var e,f=0;f<a.length;f++){for(var c=a[f],d=!0,t=1;t<c.length;t++){var o=c[t];0!==r[o]&&(d=!1)}d&&(a.splice(f--,1),e=n(n.s=c[0]))}return e}var d={},t={20:0},r={20:0},a=[];function n(f){if(d[f])return d[f].exports;var c=d[f]={i:f,l:!1,exports:{}};return e[f].call(c.exports,c,c.exports,n),c.l=!0,c.exports}n.e=function(e){var f=[];t[e]?f.push(t[e]):0!==t[e]&&{23:1,31:1}[e]&&f.push(t[e]=new Promise((function(f,c){for(var d=\"static/css/\"+({}[e]||e)+\".\"+{0:\"31d6cfe0\",1:\"31d6cfe0\",2:\"31d6cfe0\",3:\"31d6cfe0\",4:\"31d6cfe0\",5:\"31d6cfe0\",6:\"31d6cfe0\",7:\"31d6cfe0\",8:\"31d6cfe0\",9:\"31d6cfe0\",10:\"31d6cfe0\",11:\"31d6cfe0\",12:\"31d6cfe0\",13:\"31d6cfe0\",14:\"31d6cfe0\",15:\"31d6cfe0\",16:\"31d6cfe0\",17:\"31d6cfe0\",18:\"31d6cfe0\",22:\"31d6cfe0\",23:\"60e1bc23\",24:\"31d6cfe0\",25:\"31d6cfe0\",26:\"31d6cfe0\",27:\"31d6cfe0\",28:\"31d6cfe0\",29:\"31d6cfe0\",30:\"31d6cfe0\",31:\"eb671cba\",32:\"31d6cfe0\",33:\"31d6cfe0\",34:\"31d6cfe0\",35:\"31d6cfe0\",36:\"31d6cfe0\",37:\"31d6cfe0\",38:\"31d6cfe0\",39:\"31d6cfe0\",40:\"31d6cfe0\",41:\"31d6cfe0\",42:\"31d6cfe0\",43:\"31d6cfe0\",44:\"31d6cfe0\",45:\"31d6cfe0\",46:\"31d6cfe0\",47:\"31d6cfe0\",48:\"31d6cfe0\",49:\"31d6cfe0\",50:\"31d6cfe0\",51:\"31d6cfe0\",52:\"31d6cfe0\",53:\"31d6cfe0\",54:\"31d6cfe0\",55:\"31d6cfe0\",56:\"31d6cfe0\",57:\"31d6cfe0\",58:\"31d6cfe0\",59:\"31d6cfe0\",60:\"31d6cfe0\",61:\"31d6cfe0\",62:\"31d6cfe0\",63:\"31d6cfe0\",64:\"31d6cfe0\",65:\"31d6cfe0\",66:\"31d6cfe0\",67:\"31d6cfe0\",68:\"31d6cfe0\",69:\"31d6cfe0\",70:\"31d6cfe0\",71:\"31d6cfe0\",72:\"31d6cfe0\",73:\"31d6cfe0\",74:\"31d6cfe0\",75:\"31d6cfe0\",76:\"31d6cfe0\",77:\"31d6cfe0\",78:\"31d6cfe0\",79:\"31d6cfe0\",80:\"31d6cfe0\",81:\"31d6cfe0\",82:\"31d6cfe0\",83:\"31d6cfe0\",84:\"31d6cfe0\",85:\"31d6cfe0\",86:\"31d6cfe0\",87:\"31d6cfe0\",88:\"31d6cfe0\",89:\"31d6cfe0\",90:\"31d6cfe0\",91:\"31d6cfe0\",92:\"31d6cfe0\",93:\"31d6cfe0\",94:\"31d6cfe0\",95:\"31d6cfe0\",96:\"31d6cfe0\",97:\"31d6cfe0\",98:\"31d6cfe0\",99:\"31d6cfe0\",100:\"31d6cfe0\",101:\"31d6cfe0\",102:\"31d6cfe0\",103:\"31d6cfe0\",104:\"31d6cfe0\",105:\"31d6cfe0\",106:\"31d6cfe0\",107:\"31d6cfe0\",108:\"31d6cfe0\",109:\"31d6cfe0\",110:\"31d6cfe0\",111:\"31d6cfe0\",112:\"31d6cfe0\",113:\"31d6cfe0\",114:\"31d6cfe0\",115:\"31d6cfe0\",116:\"31d6cfe0\",117:\"31d6cfe0\",118:\"31d6cfe0\"}[e]+\".chunk.css\",r=n.p+d,a=document.getElementsByTagName(\"link\"),o=0;o<a.length;o++){var u=(i=a[o]).getAttribute(\"data-href\")||i.getAttribute(\"href\");if(\"stylesheet\"===i.rel&&(u===d||u===r))return f()}var b=document.getElementsByTagName(\"style\");for(o=0;o<b.length;o++){var i;if((u=(i=b[o]).getAttribute(\"data-href\"))===d||u===r)return f()}var l=document.createElement(\"link\");l.rel=\"stylesheet\",l.type=\"text/css\",l.onload=f,l.onerror=function(f){var d=f&&f.target&&f.target.src||r,a=new Error(\"Loading CSS chunk \"+e+\" failed.\\n(\"+d+\")\");a.code=\"CSS_CHUNK_LOAD_FAILED\",a.request=d,delete t[e],l.parentNode.removeChild(l),c(a)},l.href=r,document.getElementsByTagName(\"head\")[0].appendChild(l)})).then((function(){t[e]=0})));var c=r[e];if(0!==c)if(c)f.push(c[2]);else{var d=new Promise((function(f,d){c=r[e]=[f,d]}));f.push(c[2]=d);var a,o=document.createElement(\"script\");o.charset=\"utf-8\",o.timeout=120,n.nc&&o.setAttribute(\"nonce\",n.nc),o.src=function(e){return n.p+\"static/js/\"+({}[e]||e)+\".\"+{0:\"6cd1a2fa\",1:\"86183927\",2:\"8b090f4b\",3:\"79a8b99e\",4:\"337d96cf\",5:\"905fdf45\",6:\"d08d3d15\",7:\"9896be35\",8:\"79f8918d\",9:\"03a7027e\",10:\"144743de\",11:\"c189c638\",12:\"67aad0a9\",13:\"b7b7a54f\",14:\"950e4508\",15:\"85aba1e3\",16:\"6014116d\",17:\"cd268b44\",18:\"e384bdf2\",22:\"afb1a287\",23:\"16c24035\",24:\"47008799\",25:\"b5b20fa0\",26:\"651fa994\",27:\"7dac648f\",28:\"db2f9572\",29:\"d7ddbfeb\",30:\"2c670f01\",31:\"1d3fe7ab\",32:\"51f9e72a\",33:\"6ee67309\",34:\"59283620\",35:\"8f03b921\",36:\"89f34686\",37:\"95b2c15b\",38:\"ccbf72d5\",39:\"e538e7bc\",40:\"9f11ed5b\",41:\"e9948e7a\",42:\"d6586fb6\",43:\"04c0007e\",44:\"3d62f757\",45:\"a8febd85\",46:\"2c1f487c\",47:\"e3b28e1d\",48:\"8af3e617\",49:\"25eeb074\",50:\"400517c4\",51:\"950cf55d\",52:\"ff762005\",53:\"94f11d3b\",54:\"7888dc3c\",55:\"5b918329\",56:\"5f14899d\",57:\"fb26d812\",58:\"524c5251\",59:\"0a87eeb0\",60:\"ece34c3e\",61:\"6ad0a013\",62:\"9a713f83\",63:\"3957cab6\",64:\"ecfadd35\",65:\"573484a6\",66:\"896fe497\",67:\"2ed1e9a9\",68:\"d4e6ac4a\",69:\"934edc6e\",70:\"bb5f81fc\",71:\"73d4611c\",72:\"1a2a8db1\",73:\"5b86ddbb\",74:\"0fd3f26d\",75:\"c482907d\",76:\"53284a50\",77:\"8bdef68b\",78:\"7832a1bd\",79:\"de5eb981\",80:\"a2341b9e\",81:\"f6c791a8\",82:\"09e4f392\",83:\"66401fcc\",84:\"773aac3d\",85:\"cec5e6cc\",86:\"44a24f60\",87:\"16cf9697\",88:\"f1900ee5\",89:\"5e8c6131\",90:\"0e41807b\",91:\"673df09d\",92:\"8b621f05\",93:\"b94af7d7\",94:\"c7781f94\",95:\"fe5fa289\",96:\"a10a97c4\",97:\"1062619d\",98:\"60a85971\",99:\"100a1ae1\",100:\"3eb3873e\",101:\"f9f8ce3c\",102:\"329087f7\",103:\"068eb16a\",104:\"2de73f96\",105:\"0aad743a\",106:\"6cca19ed\",107:\"890187b8\",108:\"bcff7650\",109:\"a7f869d3\",110:\"3e0d1bb5\",111:\"99957383\",112:\"5b7a2c9b\",113:\"a4024b6f\",114:\"fc64edbd\",115:\"1a175666\",116:\"da90b8d2\",117:\"4c0633f4\",118:\"083f0271\"}[e]+\".chunk.js\"}(e);var u=new Error;a=function(f){o.onerror=o.onload=null,clearTimeout(b);var c=r[e];if(0!==c){if(c){var d=f&&(\"load\"===f.type?\"missing\":f.type),t=f&&f.target&&f.target.src;u.message=\"Loading chunk \"+e+\" failed.\\n(\"+d+\": \"+t+\")\",u.name=\"ChunkLoadError\",u.type=d,u.request=t,c[1](u)}r[e]=void 0}};var b=setTimeout((function(){a({type:\"timeout\",target:o})}),12e4);o.onerror=o.onload=a,document.head.appendChild(o)}return Promise.all(f)},n.m=e,n.c=d,n.d=function(e,f,c){n.o(e,f)||Object.defineProperty(e,f,{enumerable:!0,get:c})},n.r=function(e){\"undefined\"!=typeof Symbol&&Symbol.toStringTag&&Object.defineProperty(e,Symbol.toStringTag,{value:\"Module\"}),Object.defineProperty(e,\"__esModule\",{value:!0})},n.t=function(e,f){if(1&f&&(e=n(e)),8&f)return e;if(4&f&&\"object\"==typeof e&&e&&e.__esModule)return e;var c=Object.create(null);if(n.r(c),Object.defineProperty(c,\"default\",{enumerable:!0,value:e}),2&f&&\"string\"!=typeof e)for(var d in e)n.d(c,d,function(f){return e[f]}.bind(null,d));return c},n.n=function(e){var f=e&&e.__esModule?function(){return e.default}:function(){return e};return n.d(f,\"a\",f),f},n.o=function(e,f){return Object.prototype.hasOwnProperty.call(e,f)},n.p=\"/\",n.oe=function(e){throw console.error(e),e};var o=this.webpackJsonpftx=this.webpackJsonpftx||[],u=o.push.bind(o);o.push=f,o=o.slice();for(var b=0;b<o.length;b++)f(o[b]);var i=u;c()}([])</script><script src=\"/static/js/21.6ca3b3e1.chunk.js\"></script><script src=\"/static/js/main.ef564009.chunk.js\"></script><script crossorigin=\"anonymous\" data-cf-beacon='{\"rayId\":\"74028212797175cf\",\"token\":\"7a17a4f473fb4f15a21c9ed7ec04e38d\",\"version\":\"2022.8.0\",\"si\":100}' defer=\"\" integrity=\"sha512-Gi7xpJR8tSkrpF7aordPZQlW2DLtzUlZcumS8dMQjwDHEnw9I7ZLyiOj/6tZStRBGtGgN6ceN6cMH8z7etPGlw==\" src=\"https://static.cloudflareinsights.com/beacon.min.js/v652eace1692a40cfa3763df669d7439c1639079717194\"></script>\n",
      "</body></html>\n"
     ]
    }
   ],
   "source": [
    "page = requests.get('https://ftx.com/trade/BTC/USDT')\n",
    "soup = BeautifulSoup(page.text, 'lxml')\n",
    "print(soup)\n",
    "#soup.findall('span', class_=\"pane-legend-item-value-wrap\")"
   ]
  },
  {
   "cell_type": "code",
   "execution_count": null,
   "id": "9939d100",
   "metadata": {},
   "outputs": [],
   "source": [
    "<span class= style=\"color: rgb(38, 166, 154);\">21676</span>"
   ]
  }
 ],
 "metadata": {
  "kernelspec": {
   "display_name": "Python 3",
   "language": "python",
   "name": "python3"
  },
  "language_info": {
   "codemirror_mode": {
    "name": "ipython",
    "version": 3
   },
   "file_extension": ".py",
   "mimetype": "text/x-python",
   "name": "python",
   "nbconvert_exporter": "python",
   "pygments_lexer": "ipython3",
   "version": "3.8.5"
  }
 },
 "nbformat": 4,
 "nbformat_minor": 5
}
